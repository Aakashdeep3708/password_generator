{
 "cells": [
  {
   "cell_type": "markdown",
   "id": "542d63bf",
   "metadata": {},
   "source": [
    "# Simple Password"
   ]
  },
  {
   "cell_type": "code",
   "execution_count": 26,
   "id": "0263d7c7",
   "metadata": {},
   "outputs": [
    {
     "name": "stdout",
     "output_type": "stream",
     "text": [
      "how many letters in password :7\n",
      "how many numbers in password :6\n",
      "how many symbols in password :4\n",
      "Your password is kydzshw372150@%%!\n"
     ]
    }
   ],
   "source": [
    "import random\n",
    "letter=['a', 'b', 'c', 'd', 'e', 'f', 'g', 'h', 'i', 'j', 'k', 'l', 'm', 'n',\n",
    "         'o', 'p', 'q', 'r', 's', 't', 'u', 'v', 'w', 'x', 'y', 'z']\n",
    "number=['0','1','2','3','4','5','6','7','8','9']\n",
    "symbol=['!','@','#','$','%','*','&']\n",
    "        \n",
    "x=int(input(\"how many letters in password :\"))\n",
    "y=int(input(\"how many numbers in password :\"))\n",
    "z=int(input(\"how many symbols in password :\"))  \n",
    "\n",
    "password=\"\"\n",
    "\n",
    "#choice is used to select random item from the list\n",
    "\n",
    "for i in range(1,x+1):\n",
    "    a=random.choice(letter)\n",
    "    password+=a\n",
    "\n",
    "for i in range(1,y+1):\n",
    "    b=(random.choice(number))\n",
    "    password+=b\n",
    "\n",
    "for i in range(1,z+1):\n",
    "    c=random.choice(symbol)\n",
    "    password+=c\n",
    "    \n",
    "print(f\"Your password is {password}\")\n",
    "\n",
    "\n",
    "    "
   ]
  },
  {
   "cell_type": "markdown",
   "id": "606add1b",
   "metadata": {},
   "source": [
    "# Shuffle Password"
   ]
  },
  {
   "cell_type": "code",
   "execution_count": 27,
   "id": "73fc7ff1",
   "metadata": {},
   "outputs": [
    {
     "name": "stdout",
     "output_type": "stream",
     "text": [
      "how many letters in password :7\n",
      "how many numbers in password :6\n",
      "how many symbols in password :4\n",
      "Your password is 12lt3n%q%%2i4o0o&\n"
     ]
    }
   ],
   "source": [
    "import random\n",
    "letter=['a', 'b', 'c', 'd', 'e', 'f', 'g', 'h', 'i', 'j', 'k', 'l', 'm', 'n',\n",
    "         'o', 'p', 'q', 'r', 's', 't', 'u', 'v', 'w', 'x', 'y', 'z']\n",
    "number=['0','1','2','3','4','5','6','7','8','9']\n",
    "symbol=['!','@','#','$','%','*','&']\n",
    "        \n",
    "x=int(input(\"how many letters in password :\"))\n",
    "y=int(input(\"how many numbers in password :\"))\n",
    "z=int(input(\"how many symbols in password :\"))  \n",
    "\n",
    "password=[]\n",
    "\n",
    "#choice is used to select random item from the list\n",
    "\n",
    "for i in range(1,x+1):\n",
    "    a=random.choice(letter)\n",
    "    password.append(a)\n",
    "\n",
    "for i in range(1,y+1):\n",
    "    b=(random.choice(number))\n",
    "    password.append(b)\n",
    "\n",
    "for i in range(1,z+1):\n",
    "    c=random.choice(symbol)\n",
    "    password.append(c)\n",
    "    \n",
    "#shuffle is used to shuffle the items in the list but we cannot use shuffle in string\n",
    "\n",
    "random.shuffle(password)\n",
    "\n",
    "#for converting list into string, we use \n",
    "\n",
    "nw_pass=\"\"\n",
    "for i in password:\n",
    "    nw_pass+=i\n",
    "\n",
    "print(f\"Your password is {nw_pass}\")"
   ]
  },
  {
   "cell_type": "code",
   "execution_count": null,
   "id": "2fc295f2",
   "metadata": {},
   "outputs": [],
   "source": []
  }
 ],
 "metadata": {
  "kernelspec": {
   "display_name": "Python 3 (ipykernel)",
   "language": "python",
   "name": "python3"
  },
  "language_info": {
   "codemirror_mode": {
    "name": "ipython",
    "version": 3
   },
   "file_extension": ".py",
   "mimetype": "text/x-python",
   "name": "python",
   "nbconvert_exporter": "python",
   "pygments_lexer": "ipython3",
   "version": "3.11.5"
  }
 },
 "nbformat": 4,
 "nbformat_minor": 5
}
